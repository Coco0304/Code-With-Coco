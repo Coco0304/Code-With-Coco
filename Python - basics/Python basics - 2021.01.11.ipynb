{
 "cells": [
  {
   "cell_type": "markdown",
   "metadata": {},
   "source": [
    "2. Structure\n",
    "1) loop structure: while & for\n",
    "2) condition structure: if "
   ]
  },
  {
   "cell_type": "code",
   "execution_count": 3,
   "metadata": {},
   "outputs": [
    {
     "name": "stdout",
     "output_type": "stream",
     "text": [
      "1982\n",
      "1980\n",
      "1973\n",
      "1982\n",
      "1980\n",
      "1973\n",
      "0 1982\n",
      "1 1980\n",
      "2 1973\n"
     ]
    }
   ],
   "source": [
    "# loop structure --- for\n",
    "L = [1982,1980,1973]\n",
    "\n",
    "# option 1:\n",
    "for l in range(len(L)):\n",
    "    print(L[l])\n",
    "# option 2:\n",
    "for l in L:\n",
    "    print(l)\n",
    "# option 3: print index and content\n",
    "for i, l in enumerate(L):\n",
    "    print(i,l)"
   ]
  },
  {
   "cell_type": "code",
   "execution_count": 5,
   "metadata": {},
   "outputs": [
    {
     "name": "stdout",
     "output_type": "stream",
     "text": [
      "1982\n",
      "1980\n"
     ]
    }
   ],
   "source": [
    "# loop structure --- while \n",
    "# 1)index should run  2) index should be in condition\n",
    "L = [1982,1980,1973]\n",
    "l = 0\n",
    "while L[l] != 1973:\n",
    "    print(L[l])\n",
    "    l = l+1"
   ]
  },
  {
   "cell_type": "code",
   "execution_count": 7,
   "metadata": {},
   "outputs": [
    {
     "name": "stdout",
     "output_type": "stream",
     "text": [
      "1980\n",
      "2000\n"
     ]
    }
   ],
   "source": [
    "# condition structure\n",
    "L = [1982, 1980, 1973, 2000]\n",
    "for l in L:\n",
    "    if (l%400 == 0) or (l%100 !=0 and l%4==0):\n",
    "        print(l)"
   ]
  }
 ],
 "metadata": {
  "kernelspec": {
   "display_name": "Python 3",
   "language": "python",
   "name": "python3"
  },
  "language_info": {
   "codemirror_mode": {
    "name": "ipython",
    "version": 3
   },
   "file_extension": ".py",
   "mimetype": "text/x-python",
   "name": "python",
   "nbconvert_exporter": "python",
   "pygments_lexer": "ipython3",
   "version": "3.6.4"
  }
 },
 "nbformat": 4,
 "nbformat_minor": 2
}

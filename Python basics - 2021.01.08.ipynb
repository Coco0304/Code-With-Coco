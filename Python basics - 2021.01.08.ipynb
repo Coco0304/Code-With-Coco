{
 "cells": [
  {
   "cell_type": "markdown",
   "metadata": {},
   "source": [
    "1. Data structure\n",
    "\n",
    "1) python: list, tuple, dict, set \n",
    "2) pandas: DataFrame, Series\n",
    "3) numpy: ndarray(N维同类型数组) object(python数据类型)?"
   ]
  },
  {
   "cell_type": "code",
   "execution_count": 23,
   "metadata": {},
   "outputs": [
    {
     "name": "stdout",
     "output_type": "stream",
     "text": [
      "[1, 4, 1, 4, 5, 6, 7]\n"
     ]
    }
   ],
   "source": [
    "# list\n",
    "\n",
    "# crete, delete, update, add elements\n",
    "l1 = [1,2,3,2]\n",
    "l2 = list(('1','2','3','2'))\n",
    "\n",
    "del l1[3]        # del 4th element\n",
    "del l2[3]\n",
    "l1.pop()         # del last element(default)\n",
    "\n",
    "l1[1] = 4\n",
    "\n",
    "l1.append(1)     # add 1 elements at the end\n",
    "l1.extend([4,5]) # add 1 list at the end\n",
    "l1 = l1 + [6,7]"
   ]
  },
  {
   "cell_type": "code",
   "execution_count": 29,
   "metadata": {},
   "outputs": [],
   "source": [
    "# tuple, unchangeable \n",
    "\n",
    "# crete\n",
    "t1 = (1,2,3,2)\n",
    "t2 = tuple((1,'2','three',2))"
   ]
  },
  {
   "cell_type": "code",
   "execution_count": 38,
   "metadata": {},
   "outputs": [
    {
     "data": {
      "text/plain": [
       "dict_values([1, 'two', [3, 33, 333], (4, 44, 444, 4444)])"
      ]
     },
     "execution_count": 38,
     "metadata": {},
     "output_type": "execute_result"
    }
   ],
   "source": [
    "# dict\n",
    "\n",
    "# crete, delete, update, add elements\n",
    "d1 = {'one': 1, 'two':'two', 'three':[3,33,333], 'four':(4,44,444,4444)}\n",
    "d2 = dict(name='Coco', Gender='Female', Age=100)\n",
    "d3 = dict(zip(['name', 'age'], ['xiaoming', 18]))\n",
    "\n",
    "del d2['Gender']\n",
    "\n",
    "d3['name'] = 'Coco'\n",
    "\n",
    "d3['school'] = 'ZJU'\n",
    "\n",
    "d1.keys() \n",
    "d1.values()"
   ]
  },
  {
   "cell_type": "code",
   "execution_count": 3,
   "metadata": {},
   "outputs": [
    {
     "name": "stdout",
     "output_type": "stream",
     "text": [
      "{1, 2, 'good', 'four'}\n"
     ]
    }
   ],
   "source": [
    "# set, unique elements\n",
    "\n",
    "# crete, delete, update, add elements\n",
    "s1 = {1,2,3,'four',3}     # delete repeated element itself\n",
    "\n",
    "s1.remove(3)\n",
    "\n",
    "s1.add('good')"
   ]
  },
  {
   "cell_type": "code",
   "execution_count": 20,
   "metadata": {},
   "outputs": [
    {
     "name": "stdout",
     "output_type": "stream",
     "text": [
      "[1 2 3 4]\n"
     ]
    }
   ],
   "source": [
    "# DataFrame & Series pandas一维数据结构  $ array numpy “数”的矩阵\n",
    "\n",
    "import pandas as pd\n",
    "import numpy as np\n",
    "\n",
    "# Dataframe\n",
    "d4 = {'col1':[1,2], 'col2':[3,4]}\n",
    "df = pd.DataFrame(data=d4, dtype =np.int)\n",
    "\n",
    "# series，有索引！\n",
    "series_df = df['col1']                             # 从dataframe到series   \n",
    "series1 = pd.Series([1,2,3,4])\n",
    "series1.index.name = 'number'                      # 不指定index，default 0,1,2,3,4...\n",
    "series2 = pd.Series([1,2,3,4], index=['Ali', 'Baidu', 'Tencent', 'PDD']) # 指定index\n",
    "series2.iloc[0]   # = series2.loc['Ali'] \n",
    "\n",
    "# array  数组 矩阵\n",
    "a1 = np.array([1,2,3,4,5])    # array 数据类型相同\n",
    "l6 = [1,2,'three',4,'five']   # list 数据类型可以不同\n",
    "\n",
    "a2 = np.array([[1,2,3,4],\n",
    "               [5,6,7,8],\n",
    "               [9,10,11,12]    \n",
    "                              # [行标，列标]\n",
    "a3 = series2.values   # series --- array\n",
    "print(a3)"
   ]
  }
 ],
 "metadata": {
  "kernelspec": {
   "display_name": "Python 3",
   "language": "python",
   "name": "python3"
  },
  "language_info": {
   "codemirror_mode": {
    "name": "ipython",
    "version": 3
   },
   "file_extension": ".py",
   "mimetype": "text/x-python",
   "name": "python",
   "nbconvert_exporter": "python",
   "pygments_lexer": "ipython3",
   "version": "3.6.4"
  }
 },
 "nbformat": 4,
 "nbformat_minor": 2
}
